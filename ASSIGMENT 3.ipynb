{
 "cells": [
  {
   "cell_type": "markdown",
   "id": "93bca6be",
   "metadata": {},
   "source": [
    "# ASSIGMENT 3\n"
   ]
  },
  {
   "cell_type": "raw",
   "id": "84818156",
   "metadata": {},
   "source": [
    "1. Why are functions advantageous to have in your programs?\n",
    "ANSWER:-This makes programs shorter, easier to read, and easier to update and also reduce the need for duplicate code."
   ]
  },
  {
   "cell_type": "raw",
   "id": "fbc5eacc",
   "metadata": {},
   "source": [
    "2. When does the code in a function run: when it's specified or when it's called?\n",
    "ANSWER:-\n",
    "The code inside a function runs when the function is called, not when it is specified or defined. A function is a block of reusable code that performs a specific task. When you define a function, you are essentially creating a blueprint or a template for that code. It is not executed until you explicitly call the function in your program."
   ]
  },
  {
   "cell_type": "raw",
   "id": "ffb28d59",
   "metadata": {},
   "source": [
    "3.What statement creates a function?\n",
    "ANSWER:-\n",
    "\n",
    "In most programming languages, including Python, JavaScript, and others, a function is created using a function declaration or definition."
   ]
  },
  {
   "cell_type": "raw",
   "id": "cc1227b6",
   "metadata": {},
   "source": [
    "4. What is the difference between a function and a function call?\n",
    "ANSWER:-\n",
    "A function is a piece of code which enhanced the reusability and modularity of your program. It means that piece of code need not be written again. A function call means invoking or calling that function. Unless a function is called there is no use of that function.\n",
    "\n",
    "A function call, also known as a function invocation, is the act of executing a function with specific arguments (input values) and, optionally, storing the return value for further use. When a function is called, the program jumps to the function's code and starts executing the instructions defined inside the function body."
   ]
  },
  {
   "cell_type": "raw",
   "id": "e0acdb99",
   "metadata": {},
   "source": [
    "5. How many global scopes are there in a Python program? How many local scopes?\n",
    "ANSWER:-There's only one global Python scope per program excution .This scope remains in existence until the program terminates , and a local scope is created whenever a function is called. \n",
    "\n",
    " "
   ]
  },
  {
   "cell_type": "raw",
   "id": "96d4a273",
   "metadata": {},
   "source": [
    "6. What happens to variables in a local scope when the function call returns?\n",
    "ANSWER:-\n",
    "The variable y only exists while the function is being executed — we call this its lifetime. When the execution of the function terminates (returns), the local variables are destroyed. Codelens helps you visualize this because the local variables disappear after the function returns.\n"
   ]
  },
  {
   "cell_type": "raw",
   "id": "bac5d161",
   "metadata": {},
   "source": [
    "7.What is the concept of a return value? Is it possible to have a return value in an expression?\n",
    "\n",
    "ANSWER:-\n",
    "A return is a value that a function returns to the calling script or function when it completes its task. A return value can be any one of the four variable types: handle, integer, object, or string. The type of value your function returns depends largely on the task it performs."
   ]
  },
  {
   "cell_type": "raw",
   "id": "b7767930",
   "metadata": {},
   "source": [
    "8. If a function does not have a return statement, what is the return value of a call to that function?\n",
    "ANSWER:-\n",
    "Regardless of how long and complex your functions are, any function without an explicit return statement, or one with a return statement without a return value, will return None "
   ]
  },
  {
   "cell_type": "raw",
   "id": "73cc4736",
   "metadata": {},
   "source": [
    "9.How do you make a function variable refer to the global variable?\n",
    "ANSWER:-\n",
    "Normally, when you create a variable inside a function, that variable is local, and can only be used inside that function. To create a global variable inside a function, you can use the global keyword."
   ]
  },
  {
   "cell_type": "raw",
   "id": "cb0719ca",
   "metadata": {},
   "source": [
    "10.What is the data type of None?\n",
    "\n",
    "ANSWER:-The None keyword is used to define a null variable or an object. In Python, None keyword is an object, and it is a data type of the class NoneType "
   ]
  },
  {
   "cell_type": "raw",
   "id": "f8e0669c",
   "metadata": {},
   "source": [
    "11. What does the sentence import areallyourpetsnamederic do?\n",
    "ANSWER:- imports a module named areallyourpetsnamederic. (This isn't a real Python module, by the way.)"
   ]
  },
  {
   "cell_type": "raw",
   "id": "ceacaf2f",
   "metadata": {},
   "source": [
    "12.If you had a bacon() feature in a spam module, what would you call it after importing spam?\n",
    "\n",
    "ANSWER:-If you had a bacon() feature in a spam module,This function can be called with \n",
    "\n",
    "      spam. bacon()."
   ]
  },
  {
   "cell_type": "raw",
   "id": "c07c8764",
   "metadata": {},
   "source": [
    "13.What can you do to save a programme from crashing if it encounters an error?\n",
    "\n",
    "ANSWER:-To save a program from crashing when it encounters an error, you can implement error handling mechanisms. Python provides a built-in mechanism for this called try-except blocks. By using try and except, you can catch and handle errors gracefully, allowing the program to continue executing instead of terminating abruptly"
   ]
  },
  {
   "cell_type": "raw",
   "id": "0521d43f",
   "metadata": {},
   "source": [
    "14.What is the purpose of the try clause? What is the purpose of the except clause?\n",
    "\n",
    "ANSWER:-The try block lets you test a block of code for errors. The except block lets you handle the error. The else block lets you execute code when there is no error. The finally block lets you execute code, regardless of the result of the try- and except blocks."
   ]
  },
  {
   "cell_type": "code",
   "execution_count": null,
   "id": "295fdd42",
   "metadata": {},
   "outputs": [],
   "source": []
  }
 ],
 "metadata": {
  "kernelspec": {
   "display_name": "Python 3 (ipykernel)",
   "language": "python",
   "name": "python3"
  },
  "language_info": {
   "codemirror_mode": {
    "name": "ipython",
    "version": 3
   },
   "file_extension": ".py",
   "mimetype": "text/x-python",
   "name": "python",
   "nbconvert_exporter": "python",
   "pygments_lexer": "ipython3",
   "version": "3.10.9"
  }
 },
 "nbformat": 4,
 "nbformat_minor": 5
}
